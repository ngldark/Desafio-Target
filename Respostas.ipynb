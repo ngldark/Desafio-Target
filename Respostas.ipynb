{
 "cells": [
  {
   "attachments": {},
   "cell_type": "markdown",
   "metadata": {},
   "source": [
    "2) Dado a sequência de Fibonacci, onde se inicia por 0 e 1 e o próximo valor sempre será a soma dos 2 valores anteriores (exemplo: 0, 1, 1, 2, 3, 5, 8, 13, 21, 34...), escreva um programa na linguagem que desejar onde, informado um número, ele calcule a sequência de Fibonacci e retorne uma mensagem avisando se o número informado pertence ou não a sequência.\n",
    "\n",
    "IMPORTANTE:\n",
    "Esse número pode ser informado através de qualquer entrada de sua preferência ou pode ser previamente definido no código;"
   ]
  },
  {
   "cell_type": "code",
   "execution_count": null,
   "metadata": {},
   "outputs": [],
   "source": [
    "def fib(n):\n",
    "  if n <= 0:\n",
    "    return [0]\n",
    "  sequence = [0, 1]\n",
    "  while len(sequence) <= n:\n",
    "    next_value = sequence[len(sequence) - 1] + sequence[len(sequence) - 2]\n",
    "    sequence.append(next_value)\n",
    "  return sequence\n",
    "\n",
    "n =int(input(\"Qual número você deseja verificar se pertence à lista? \"))\n",
    "if n in fib(n):\n",
    "    print(f'Este número pertence à Sequência de Fibonacci')\n",
    "else:\n",
    "    print(f'Este número não pertence à Sequência de Fibonacci')"
   ]
  },
  {
   "attachments": {},
   "cell_type": "markdown",
   "metadata": {},
   "source": [
    "3) Dado um vetor que guarda o valor de faturamento diário de uma distribuidora, faça um programa, na linguagem que desejar, que calcule e retorne:\n",
    "• O menor valor de faturamento ocorrido em um dia do mês;\n",
    "• O maior valor de faturamento ocorrido em um dia do mês;\n",
    "• Número de dias no mês em que o valor de faturamento diário foi superior à média mensal.\n",
    "\n",
    "IMPORTANTE:\n",
    "a) Usar o json ou xml disponível como fonte dos dados do faturamento mensal;\n",
    "b) Podem existir dias sem faturamento, como nos finais de semana e feriados. Estes dias devem ser ignorados no cálculo da média;"
   ]
  },
  {
   "cell_type": "code",
   "execution_count": null,
   "metadata": {},
   "outputs": [],
   "source": [
    "import json\n",
    "import pandas as pd\n",
    "import numpy as np\n",
    "\n",
    "with open(\"dados.json\", encoding='utf-8') as meu_json:\n",
    "    dados = json.load(meu_json)\n",
    "\n",
    "df = pd.json_normalize(dados) \n",
    "indexNames = df[ df['valor'] == 0.000 ].index\n",
    "df.drop(indexNames , inplace=True)\n",
    "\n",
    "# O menor valor de faturamento ocorrido em um dia do mês;\n",
    "\n",
    "min = df[['valor']].min().item()\n",
    "print(f'O menor valor de faturamento foi de {min}')\n",
    "\n",
    "# O maior valor de faturamento ocorrido em um dia do mês;\n",
    "\n",
    "max = df[['valor']].max().item()\n",
    "print(f'O menor valor de faturamento foi de {max}')\n",
    "\n",
    "# Número de dias no mês em que o valor de faturamento diário foi superior à média mensal.\n",
    "media = df[['valor']].mean().item()\n",
    "acmedia = df.loc[df['valor'] >media]['dia'].count()\n",
    "\n",
    "print(f'A quantidade de dias em que o faturamento diário foi superior à média mensal é de {acmedia}')\n"
   ]
  },
  {
   "attachments": {},
   "cell_type": "markdown",
   "metadata": {},
   "source": [
    "4) Dado o valor de faturamento mensal de uma distribuidora, detalhado por estado:\n",
    "\n",
    "SP – R$67.836,43\n",
    "RJ – R$36.678,66\n",
    "MG – R$29.229,88\n",
    "ES – R$27.165,48\n",
    "Outros – R$19.849,53\n",
    "\n",
    "Escreva um programa na linguagem que desejar onde calcule o percentual de representação que cada estado teve dentro do valor total mensal da distribuidora."
   ]
  },
  {
   "cell_type": "code",
   "execution_count": null,
   "metadata": {},
   "outputs": [],
   "source": [
    "l1 = ['SP', 'RJ', 'MG', 'ES', 'Outros']\n",
    "l2 = [67836.43, 36678.66, 29229.88, 27165.48, 19849.53]\n",
    "\n",
    "somal2 = sum(l2)\n",
    "\n",
    "def porc(x):\n",
    "    return round(x/somal2*100, 3)\n",
    "\n",
    "l3 = list(map(porc, l2))\n",
    "\n",
    "l4 = zip(l1, l3)\n",
    "\n",
    "for x, y in l4:\n",
    "    print(f'{x} representa {y}%')"
   ]
  },
  {
   "attachments": {},
   "cell_type": "markdown",
   "metadata": {},
   "source": [
    "5) Escreva um programa que inverta os caracteres de um string.\n",
    "\n",
    "IMPORTANTE:\n",
    "a) Essa string pode ser informada através de qualquer entrada de sua preferência ou pode ser previamente definida no código;\n",
    "b) Evite usar funções prontas, como, por exemplo, reverse;"
   ]
  },
  {
   "cell_type": "code",
   "execution_count": null,
   "metadata": {},
   "outputs": [],
   "source": [
    "x = input('Digite sua palavra: ')\n",
    "print(x[::-1])"
   ]
  }
 ],
 "metadata": {
  "kernelspec": {
   "display_name": "Python 3",
   "language": "python",
   "name": "python3"
  },
  "language_info": {
   "name": "python",
   "version": "3.10.6"
  },
  "orig_nbformat": 4,
  "vscode": {
   "interpreter": {
    "hash": "369f2c481f4da34e4445cda3fffd2e751bd1c4d706f27375911949ba6bb62e1c"
   }
  }
 },
 "nbformat": 4,
 "nbformat_minor": 2
}
